{
 "metadata": {
  "name": "",
  "signature": "sha256:bccb5425bc04f007e90c6f00bf1c9cf119ac8d96783257c0c5ccb81fdc60eb19"
 },
 "nbformat": 3,
 "nbformat_minor": 0,
 "worksheets": [
  {
   "cells": [
    {
     "cell_type": "markdown",
     "metadata": {},
     "source": [
      "Lab2.2 KMeans Clustering\n",
      "----------------------------\n",
      "----------------------------\n",
      "Dataset: Iris dataset. Atributos de 3 clases de planta Iris."
     ]
    },
    {
     "cell_type": "code",
     "collapsed": false,
     "input": [
      "import numpy as np\n",
      "import matplotlib.pyplot as plt\n",
      "from sklearn import datasets\n",
      "from sklearn.decomposition import PCA\n",
      "# Config the matlotlib backend as plotting inline in IPython\n",
      "%matplotlib inline"
     ],
     "language": "python",
     "metadata": {},
     "outputs": [],
     "prompt_number": 9
    },
    {
     "cell_type": "markdown",
     "metadata": {},
     "source": [
      "Cargamos el dataset"
     ]
    },
    {
     "cell_type": "code",
     "collapsed": false,
     "input": [
      "iris = datasets.load_iris()\n",
      "X = iris.data\n",
      "y = iris.target\n",
      "n_clases = len(np.unique(y))\n",
      "print(\"Numero de muestras: \",len(y))\n",
      "print(\"Numero de clases: \",n_clases)\n",
      "print(\"Dimensiones de X:\",X.shape)"
     ],
     "language": "python",
     "metadata": {},
     "outputs": [
      {
       "output_type": "stream",
       "stream": "stdout",
       "text": [
        "Numero de muestras:  150\n",
        "Numero de clases:  3\n",
        "Dimensiones de X: (150, 4)\n"
       ]
      }
     ],
     "prompt_number": 25
    },
    {
     "cell_type": "markdown",
     "metadata": {},
     "source": [
      "Visualizacion en 2 dimensiones\n",
      "-------------------------------"
     ]
    },
    {
     "cell_type": "code",
     "collapsed": false,
     "input": [
      "def plot_clusters(X,K,k_ids,centroids=[]):\n",
      "    pca = PCA(n_components=2)\n",
      "    X2d = pca.fit_transform(X)\n",
      "    if centroids!=[]:\n",
      "        cent2d = pca.transform(centroids)\n",
      "\n",
      "    plt.figure(figsize=(10,10))\n",
      "    colors = 'rgbymck'\n",
      "    \n",
      "    for i in range(K):\n",
      "        plt.scatter(X2d[k_ids==i,0],X2d[k_ids==i,1],c=colors[i%len(colors)],marker='o',alpha=0.8)\n",
      "        plt.hold(True)\n",
      "        if centroids!=[]:\n",
      "            plt.plot(cent2d[i,0],cent2d[i,1],'b+')\n",
      "    plt.title(\"Visualizacion para %i clusters en Iris Dataset\" % K)\n",
      "    plt.show()"
     ],
     "language": "python",
     "metadata": {},
     "outputs": [],
     "prompt_number": 18
    },
    {
     "cell_type": "code",
     "collapsed": false,
     "input": [
      "plot_clusters(X,n_clases,y)"
     ],
     "language": "python",
     "metadata": {},
     "outputs": [
      {
       "metadata": {},
       "output_type": "display_data",
       "png": "[encoded data removed]",
       "text": [
        "<matplotlib.figure.Figure at 0x7f9202392048>"
       ]
      }
     ],
     "prompt_number": 19
    },
    {
     "cell_type": "markdown",
     "metadata": {},
     "source": [
      "Implementaci\u00f3n de algoritmo KMeans\n",
      "-----------------------------------"
     ]
    },
    {
     "cell_type": "code",
     "collapsed": false,
     "input": [
      "def KMeans(X,K,nro_iteraciones=100,eps=1e-4):\n",
      "    N,M = X.shape\n",
      "    xmin,xmax = X.min(),X.max()\n",
      "    centroids = (xmax-xmin)*np.random.random([K,M])+xmin\n",
      "    prev_centroids = centroids.copy()\n",
      "    k_ids = np.zeros(N)\n",
      "    while nro_iteraciones>0:\n",
      "        # Asignacion de elmtos a clusters\n",
      "        for i in range(N):\n",
      "            dists = np.zeros(K)\n",
      "            for k in range(K):\n",
      "                dd = X[i,:]-centroids[k,:]\n",
      "                dists[k]=np.sqrt(np.dot(dd,dd))\n",
      "            k_ids[i]=dists.argmin()\n",
      "        \n",
      "        # actualizacion de centroides\n",
      "        for k in range(K):\n",
      "            centroids[k,:] = X[k_ids==k,:].mean(axis=0)\n",
      "            \n",
      "        # tolerance criteria\n",
      "        dcent = centroids - pred_centroids\n",
      "        dcent = np.sqrt(np.dot(dcent,dcent))\n",
      "        if dcent < eps:\n",
      "            break\n",
      "        prev_centroids = centroids.copy()\n",
      "        nro_iteraciones-=1\n",
      "        if nro_iteraciones%10 == 0:\n",
      "            print(\"Iteracion %i...\" % nro_iteraciones)\n",
      "    return k_ids,centroids\n",
      "        "
     ],
     "language": "python",
     "metadata": {},
     "outputs": [],
     "prompt_number": 50
    },
    {
     "cell_type": "markdown",
     "metadata": {},
     "source": [
      "Probar algoritmo"
     ]
    },
    {
     "cell_type": "code",
     "collapsed": false,
     "input": [
      "K=4\n",
      "k_ids,centroids = KMeans(X,K,4)\n",
      "\n",
      "plot_clusters(X,K,k_ids,centroids)"
     ],
     "language": "python",
     "metadata": {},
     "outputs": [
      {
       "output_type": "stream",
       "stream": "stdout",
       "text": [
        "Iteracion 0...\n"
       ]
      }
     ],
     "prompt_number": 56
    },
    {
     "cell_type": "code",
     "collapsed": false,
     "input": [],
     "language": "python",
     "metadata": {},
     "outputs": []
    }
   ],
   "metadata": {}
  }
 ]
}