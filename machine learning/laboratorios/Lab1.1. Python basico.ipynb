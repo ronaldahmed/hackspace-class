{
 "metadata": {
  "name": "",
  "signature": "sha256:380a66b6ee2f0887f3751b5f5c8b46c632f8912aa0402b5e2c2cf20d50e5a016"
 },
 "nbformat": 3,
 "nbformat_minor": 0,
 "worksheets": [
  {
   "cells": [
    {
     "cell_type": "markdown",
     "metadata": {},
     "source": [
      "Lab 1.1 Algebra Lineal y Visualizaci\u00f3n en Python\n",
      "====================================================\n",
      "\n",
      "Aprenderemos a usar las librer\u00edas Numpy y Matplotlib de Python"
     ]
    },
    {
     "cell_type": "code",
     "collapsed": false,
     "input": [
      "import numpy as np\n",
      "import matplotlib.pyplot as plt\n",
      "%matplotlib inline"
     ],
     "language": "python",
     "metadata": {},
     "outputs": [],
     "prompt_number": 1
    },
    {
     "cell_type": "markdown",
     "metadata": {},
     "source": [
      "Numpy: Algebra Lineal\n",
      "--------------------------"
     ]
    },
    {
     "cell_type": "code",
     "collapsed": false,
     "input": [
      "# Array unidimensional\n",
      "x = np.ones(shape=[5],dtype=np.int)\n",
      "x = np.array([1,2,5,7,3])\n",
      "#print(x)\n",
      "# Array multidimensional\n",
      "y = np.ones(shape=[2,4])\n",
      "y = np.random.random([3,3])\n",
      "print(y)\n",
      "# Dimensiones de un array\n",
      "x.shape\n",
      "y.shape\n",
      "# estadisticas basicas\n",
      "y.std()\n"
     ],
     "language": "python",
     "metadata": {},
     "outputs": [
      {
       "output_type": "stream",
       "stream": "stdout",
       "text": [
        "[[ 0.69848886  0.82580407  0.93482417]\n",
        " [ 0.57696216  0.65595623  0.30231495]\n",
        " [ 0.78131381  0.32457956  0.93844611]]\n"
       ]
      },
      {
       "metadata": {},
       "output_type": "pyout",
       "prompt_number": 14,
       "text": [
        "0.22186705000223172"
       ]
      }
     ],
     "prompt_number": 14
    },
    {
     "cell_type": "code",
     "collapsed": false,
     "input": [
      "## Operaciones vectoriales\n",
      "x = np.array([1,2])\n",
      "y = np.array([5,6])\n",
      "\n",
      "# inner mult\n",
      "print(np.dot(x,y))\n",
      "# outer mult\n",
      "print(np.outer(x,y))\n",
      "\n",
      "## Operaciones matriciales\n",
      "A = np.random.random([2,4])\n",
      "B = np.random.random([4,6])\n",
      "\n",
      "# dot product & matrix mult\n",
      "#print(np.dot(A,B))"
     ],
     "language": "python",
     "metadata": {},
     "outputs": [
      {
       "output_type": "stream",
       "stream": "stdout",
       "text": [
        "17\n",
        "[[ 5  6]\n",
        " [10 12]]"
       ]
      },
      {
       "output_type": "stream",
       "stream": "stdout",
       "text": [
        "\n"
       ]
      }
     ],
     "prompt_number": 17
    },
    {
     "cell_type": "markdown",
     "metadata": {},
     "source": [
      "Matplotlib: Visualizaci\u00f3n\n",
      "--------------------------------\n"
     ]
    },
    {
     "cell_type": "code",
     "collapsed": false,
     "input": [
      "X = np.linspace(0,4*np.pi,1000)\n",
      "C = np.cos(X)\n",
      "S = np.sin(X)"
     ],
     "language": "python",
     "metadata": {},
     "outputs": [],
     "prompt_number": 19
    },
    {
     "cell_type": "code",
     "collapsed": false,
     "input": [
      "plt.figure()\n",
      "plt.plot(X,C,'r')\n",
      "plt.hold(True)\n",
      "plt.plot(X,S,'b')\n",
      "\n",
      "plt.show()"
     ],
     "language": "python",
     "metadata": {},
     "outputs": [
      {
       "metadata": {},
       "output_type": "display_data",
       "png": "[encoded data removed]",
       "text": [
        "<matplotlib.figure.Figure at 0x7ff91e3fef98>"
       ]
      }
     ],
     "prompt_number": 20
    },
    {
     "cell_type": "code",
     "collapsed": false,
     "input": [],
     "language": "python",
     "metadata": {},
     "outputs": []
    }
   ],
   "metadata": {}
  }
 ]
}